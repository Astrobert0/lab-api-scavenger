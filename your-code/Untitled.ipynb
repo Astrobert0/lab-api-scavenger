{
 "cells": [
  {
   "cell_type": "code",
   "execution_count": 2,
   "metadata": {},
   "outputs": [
    {
     "output_type": "execute_result",
     "data": {
      "text/plain": [
       "[None, None, None, None, 'Jupyter Notebook']"
      ]
     },
     "metadata": {},
     "execution_count": 2
    }
   ],
   "source": [
    "import requests\n",
    "import pandas as pd\n",
    "import json\n",
    "from pandas.io.json import json_normalize\n",
    "\n",
    "#Challenge 1\n",
    "response = requests.get(\"https://api.github.com/repos/ironhack-datalabs/bcn-feb-2019/forks\")\n",
    "j =response.json()\n",
    "df = pd.DataFrame(j)\n",
    "lang = list(df['language'])\n",
    "lang"
   ]
  },
  {
   "cell_type": "code",
   "execution_count": 6,
   "metadata": {},
   "outputs": [
    {
     "output_type": "execute_result",
     "data": {
      "text/plain": [
       "0    2019-08-19T11:12:15Z\n",
       "1    2019-08-19T11:11:55Z\n",
       "2    2019-08-19T11:10:23Z\n",
       "3    2019-08-19T08:36:54Z\n",
       "Name: commit.author.date, dtype: object"
      ]
     },
     "metadata": {},
     "execution_count": 6
    }
   ],
   "source": [
    "#Challenge 2\n",
    "response2 = requests.get(\"https://api.github.com/repos/ta-data-lis/lab-mysql-first-queries/commits\")\n",
    "a =response2.json()\n",
    "df2 = pd.json_normalize(a)\n",
    "df2['commit.author.date']"
   ]
  },
  {
   "cell_type": "code",
   "execution_count": null,
   "metadata": {},
   "outputs": [],
   "source": []
  }
 ],
 "metadata": {
  "kernelspec": {
   "display_name": "Python 3",
   "language": "python",
   "name": "python3"
  },
  "language_info": {
   "codemirror_mode": {
    "name": "ipython",
    "version": 3
   },
   "file_extension": ".py",
   "mimetype": "text/x-python",
   "name": "python",
   "nbconvert_exporter": "python",
   "pygments_lexer": "ipython3",
   "version": "3.8.5-final"
  }
 },
 "nbformat": 4,
 "nbformat_minor": 4
}